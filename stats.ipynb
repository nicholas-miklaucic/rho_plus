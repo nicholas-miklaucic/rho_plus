{
 "cells": [
  {
   "cell_type": "markdown",
   "metadata": {},
   "source": [
    "# Statistical Functionality"
   ]
  },
  {
   "cell_type": "code",
   "execution_count": 279,
   "metadata": {},
   "outputs": [],
   "source": [
    "import numpy as np\n",
    "import pandas as pd\n",
    "import matplotlib.pyplot as plt\n",
    "import seaborn as sns\n",
    "import rho_plus as rp\n",
    "from scipy import stats\n",
    "\n",
    "theme, cs = rp.mpl_setup(True)"
   ]
  },
  {
   "cell_type": "markdown",
   "metadata": {},
   "source": [
    "p-values are formatted in a specific way in the literature. There's not any standard library approach that replicates it, so here goes:"
   ]
  },
  {
   "cell_type": "code",
   "execution_count": 280,
   "metadata": {},
   "outputs": [
    {
     "data": {
      "text/plain": [
       "array(['p = 0.455', 'p = 0.650', 'p = 0.209', 'p = 0.378', 'p = 0.845',\n",
       "       'p = 0.493', 'p = 0.179', 'p = 0.303', 'p = 0.218', 'p = 0.604'],\n",
       "      dtype='<U9')"
      ]
     },
     "execution_count": 280,
     "metadata": {},
     "output_type": "execute_result"
    }
   ],
   "source": [
    "@np.vectorize()\n",
    "def format_pval(pval, places=3):\n",
    "    \"\"\"Formats a single p-value or a list of p-values.\n",
    "    By default, formats as 'p = 0.012', with values that\n",
    "    would round to 'p = 0.000' instead being represented\n",
    "    as 'p < 0.001'. Places controls how many decimals to use.\"\"\"\n",
    "    if pval < 10 ** (-places):\n",
    "        return 'p < 0.{}1'.format('0' * (int(places) - 1))\n",
    "    else:\n",
    "        pstr = format(pval, f'.0{places}f')\n",
    "        return f'p = {pstr}'\n",
    "        \n",
    "format_pval(pd.Series(np.random.rand(10), name='x'))"
   ]
  },
  {
   "cell_type": "markdown",
   "metadata": {},
   "source": [
    "There are a couple useful descriptive statistics that aren't in numpy for some reason."
   ]
  },
  {
   "cell_type": "code",
   "execution_count": 281,
   "metadata": {},
   "outputs": [],
   "source": [
    "def iqr(x, **kwargs):\n",
    "    return np.quantile(x, 0.75, **kwargs) - np.quantile(x, 0.25, **kwargs)\n",
    "\n",
    "def expit(x):\n",
    "    \"\"\"Returns the logistic function 1/(1 + exp(-x)).\"\"\"\n",
    "    return 1 / (1 + np.exp(-x))\n",
    "\n",
    "def midrange(x, **kwargs):\n",
    "    \"\"\"Returns the mean of the min and max.\"\"\"\n",
    "    return 0.5 * (np.min(x, **kwargs) + np.max(x, **kwargs))\n"
   ]
  },
  {
   "cell_type": "markdown",
   "metadata": {},
   "source": [
    "There are many measures of the center of a dataset: the mean and median are the most common. What if we don't want to first figure out if our dataset has outliers, and we just want it to do the right thing?\n",
    "\n",
    "We can generalize the mean and median as such. We define the $p$-center of a dataset $x_1, x_2, \\dots, x_n$ to be the value $u$ (if a unique value exists) that minimizes\n",
    "\n",
    "$$ \\sum_{i=1}^n |x_i - u|^p $$"
   ]
  },
  {
   "cell_type": "markdown",
   "metadata": {},
   "source": [
    "Then the median is the 1-center and the mean is the 2-center. As $p \\to \\infty$, this becomes the *midrange*: $\\frac{\\max x + \\min x}{2}$. As $p \\to 0$, this becomes the mode, but this is quite unstable in practice. We're mostly interested in $p \\in [1, 2]$, as a continuous parameter that controls robustness."
   ]
  },
  {
   "cell_type": "markdown",
   "metadata": {},
   "source": [
    "We can zoom out and get a more powerful set of tools by considering this approach as maximum likelihood estimation (MLE) of different probability distributions.\n",
    "\n",
    "The MLE for a Gaussian distribution is exactly the mean and sample variance of a dataset: the Gaussian's log-likelihood is proportional to the squared distance to the mean, so this follows directly from the above. The MLE for a Laplace distribution is the median for the same reason.\n",
    "\n",
    "In general, we can define a family of generalized location-scale distributions parameterized by $p$, a location $u$, and a scale $s$:\n",
    "\n",
    "$$ P(x; u, s, p) \\propto \\exp \\left(-\\frac{1}{p} \\left|\\frac{x - u}{s}\\right|^p \\right) $$\n",
    "\n",
    "This is chosen such that $p = 1$ gives us the Laplace and $p = 2$ gives us the Gaussian.\n",
    "\n",
    "We need a closed-form normalizing constant if this is to be tractable, however:"
   ]
  },
  {
   "cell_type": "code",
   "execution_count": 282,
   "metadata": {},
   "outputs": [
    {
     "data": {
      "text/latex": [
       "$\\displaystyle \\int\\limits_{-\\infty}^{\\infty} e^{- \\frac{\\left(\\frac{\\left|{u - x}\\right|}{s}\\right)^{p}}{p}}\\, dx = 2 p^{\\frac{1}{p}} s \\Gamma\\left(1 + \\frac{1}{p}\\right)$"
      ],
      "text/plain": [
       "Eq(Integral(exp(-(Abs(u - x)/s)**p/p), (x, -oo, oo)), 2*p**(1/p)*s*gamma(1 + 1/p))"
      ]
     },
     "metadata": {},
     "output_type": "display_data"
    }
   ],
   "source": [
    "from sympy import *\n",
    "\n",
    "x, u = symbols('x u', real=True)\n",
    "s, p = symbols('s p', real=True, positive=True)\n",
    "\n",
    "def show_expr(expr):\n",
    "    ans = expr.doit().simplify()\n",
    "    display(Eq(expr, ans))\n",
    "    return ans\n",
    "\n",
    "unscaled_pdf = exp(-(1 / p) * abs((x - u) / s) ** p)\n",
    "Z_raw = Integral(unscaled_pdf, (x, -oo, oo))\n",
    "\n",
    "Z = show_expr(Z_raw)"
   ]
  },
  {
   "cell_type": "markdown",
   "metadata": {},
   "source": [
    "I'm honestly surprised there is a such a clean closed form for this. This lets us define the proper PDF:"
   ]
  },
  {
   "cell_type": "code",
   "execution_count": 283,
   "metadata": {},
   "outputs": [
    {
     "data": {
      "text/latex": [
       "$\\displaystyle P{\\left(x \\right)} = \\frac{p^{- \\frac{1}{p}} e^{- \\frac{s^{- p} \\left|{u - x}\\right|^{p}}{p}}}{2 s \\Gamma\\left(1 + \\frac{1}{p}\\right)}$"
      ],
      "text/plain": [
       "Eq(P(x), exp(-Abs(u - x)**p/(p*s**p))/(2*p**(1/p)*s*gamma(1 + 1/p)))"
      ]
     },
     "metadata": {},
     "output_type": "display_data"
    }
   ],
   "source": [
    "pdf = unscaled_pdf / Z\n",
    "\n",
    "class P(Function):\n",
    "    @staticmethod\n",
    "    def inner(_x):\n",
    "        return pdf.subs({x: _x})\n",
    "    \n",
    "    @classmethod\n",
    "    def eval(cls, _x):\n",
    "        if isinstance(_x, Number):\n",
    "            return cls.inner(_x)\n",
    "        else:\n",
    "            return None\n",
    "        \n",
    "    def doit(self, deep=True, **hints):\n",
    "        _x = self.args\n",
    "        # Recursively call doit() on the args whenever deep=True.\n",
    "        # Be sure to pass deep=True and **hints through here.\n",
    "        if deep:\n",
    "            _x = x.doit(deep=deep, **hints)\n",
    "        \n",
    "        return self.inner(_x)\n",
    "    \n",
    "show_expr(P(x));"
   ]
  },
  {
   "cell_type": "markdown",
   "metadata": {},
   "source": [
    "We can show that this distribution has $E[X] = u$ and $\\sqrt[p]{E[|X - u|^p]} = s$. This means that both $u$ and $s$ are actually the location and scale parameters we want: for the Gaussian, they're the mean and standard deviation, and for the Laplace they're the median and mean absolute deviation. "
   ]
  },
  {
   "cell_type": "code",
   "execution_count": 284,
   "metadata": {},
   "outputs": [
    {
     "data": {
      "text/latex": [
       "$\\displaystyle \\int\\limits_{-\\infty}^{\\infty} x P{\\left(x \\right)}\\, dx = u$"
      ],
      "text/plain": [
       "Eq(Integral(x*P(x), (x, -oo, oo)), u)"
      ]
     },
     "metadata": {},
     "output_type": "display_data"
    },
    {
     "data": {
      "text/latex": [
       "$\\displaystyle \\left(\\int\\limits_{-\\infty}^{\\infty} \\left|{u - x}\\right|^{p} P{\\left(x \\right)}\\, dx\\right)^{\\frac{1}{p}} = s$"
      ],
      "text/plain": [
       "Eq(Integral(Abs(u - x)**p*P(x), (x, -oo, oo))**(1/p), s)"
      ]
     },
     "metadata": {},
     "output_type": "display_data"
    }
   ],
   "source": [
    "show_expr(integrate(x * P(x), (x, -oo, oo)));\n",
    "show_expr(Integral(abs(x - u) ** p * P(x), (x, -oo, oo)) ** (1 / p));"
   ]
  },
  {
   "cell_type": "markdown",
   "metadata": {},
   "source": [
    "Using a probabilistic framework makes picking $p$ simple: we find the $p$ that maximizes the likelihood of our data. This gives us $u$ and $s$, an intelligent center and dispersion statistic for our data.\n",
    "\n",
    "To make this easier to work with computationally, I should probably implement the ziggurat algorithm for random sampling in the future. Until then:"
   ]
  },
  {
   "cell_type": "code",
   "execution_count": 300,
   "metadata": {},
   "outputs": [],
   "source": [
    "from scipy.special import gamma\n",
    "class minkowski_gen(stats.rv_continuous):\n",
    "    \"\"\"Minkowski family of distributions with loc, scale, and p.\n",
    "    p = 1 gives Laplace.\n",
    "    p = 2 gives Gaussian.\"\"\"\n",
    "    def _pdf(self, x, p):\n",
    "        return np.exp(-1 / p * abs(x) ** p) / (2 * p ** (1 / p) * gamma(1 + 1 / p))\n",
    "    \n",
    "    def _fitstart(self, data):\n",
    "        return (2, np.mean(data), np.std(data))\n",
    "\n",
    "minkowski = minkowski_gen(name='minkowski')"
   ]
  },
  {
   "cell_type": "code",
   "execution_count": 310,
   "metadata": {},
   "outputs": [
    {
     "data": {
      "text/plain": [
       "(2.0176519408807785, 0.018067184902006768, 1.00296367516868)"
      ]
     },
     "execution_count": 310,
     "metadata": {},
     "output_type": "execute_result"
    }
   ],
   "source": [
    "rvs = stats.norm.rvs(size=10000)\n",
    "minkowski.fit(rvs)"
   ]
  },
  {
   "cell_type": "code",
   "execution_count": 286,
   "metadata": {},
   "outputs": [
    {
     "data": {
      "application/vnd.jupyter.widget-view+json": {
       "model_id": "9c8ddbe51a1445cd92a7e7d860268187",
       "version_major": 2,
       "version_minor": 0
      },
      "text/plain": [
       "interactive(children=(FloatSlider(value=1.5, description='p', max=3.0, min=0.5), Output()), _dom_classes=('wid…"
      ]
     },
     "metadata": {},
     "output_type": "display_data"
    }
   ],
   "source": [
    "from ipywidgets import interact\n",
    "\n",
    "xx = np.linspace(-6, 6, 1000)\n",
    "\n",
    "@interact(p=(0.5, 3, 0.1))\n",
    "def plot_minkowski(p=1.5):\n",
    "    plt.plot(xx, minkowski(p=p).pdf(xx))\n",
    "    plt.ylim(0, 0.5)"
   ]
  },
  {
   "cell_type": "code",
   "execution_count": 287,
   "metadata": {},
   "outputs": [
    {
     "data": {
      "text/latex": [
       "$\\displaystyle \\frac{p^{- \\frac{1}{p}} \\int\\limits_{-\\infty}^{y} e^{- \\frac{s^{- p} \\left|{u - x}\\right|^{p}}{p}}\\, dx}{2 s \\Gamma\\left(1 + \\frac{1}{p}\\right)}$"
      ],
      "text/plain": [
       "Integral(exp(-Abs(u - x)**p/(p*s**p)), (x, -oo, y))/(2*p**(1/p)*s*gamma(1 + 1/p))"
      ]
     },
     "execution_count": 287,
     "metadata": {},
     "output_type": "execute_result"
    }
   ],
   "source": [
    "y = symbols('y', real=True)\n",
    "integrate(pdf, (x, -oo, y))"
   ]
  },
  {
   "cell_type": "code",
   "execution_count": 288,
   "metadata": {},
   "outputs": [],
   "source": [
    "# MLE estimates: u doesn't have a closed-form solution, s is the expected spread value\n",
    "# should probably do Bessel correction?\n",
    "\n",
    "# diff(log(P(x)).doit().expand(), u).expand().simplify()\n",
    "# diff(log(P(x)).doit().expand(), s).expand().simplify()"
   ]
  },
  {
   "cell_type": "code",
   "execution_count": 289,
   "metadata": {},
   "outputs": [
    {
     "data": {
      "text/html": [
       "<div>\n",
       "<style scoped>\n",
       "    .dataframe tbody tr th:only-of-type {\n",
       "        vertical-align: middle;\n",
       "    }\n",
       "\n",
       "    .dataframe tbody tr th {\n",
       "        vertical-align: top;\n",
       "    }\n",
       "\n",
       "    .dataframe thead th {\n",
       "        text-align: right;\n",
       "    }\n",
       "</style>\n",
       "<table border=\"1\" class=\"dataframe\">\n",
       "  <thead>\n",
       "    <tr style=\"text-align: right;\">\n",
       "      <th></th>\n",
       "      <th>carat</th>\n",
       "      <th>cut</th>\n",
       "      <th>color</th>\n",
       "      <th>clarity</th>\n",
       "      <th>depth</th>\n",
       "      <th>table</th>\n",
       "      <th>price</th>\n",
       "      <th>x</th>\n",
       "      <th>y</th>\n",
       "      <th>z</th>\n",
       "    </tr>\n",
       "  </thead>\n",
       "  <tbody>\n",
       "    <tr>\n",
       "      <th>0</th>\n",
       "      <td>0.23</td>\n",
       "      <td>Ideal</td>\n",
       "      <td>E</td>\n",
       "      <td>SI2</td>\n",
       "      <td>61.5</td>\n",
       "      <td>55.0</td>\n",
       "      <td>326</td>\n",
       "      <td>3.95</td>\n",
       "      <td>3.98</td>\n",
       "      <td>2.43</td>\n",
       "    </tr>\n",
       "    <tr>\n",
       "      <th>1</th>\n",
       "      <td>0.21</td>\n",
       "      <td>Premium</td>\n",
       "      <td>E</td>\n",
       "      <td>SI1</td>\n",
       "      <td>59.8</td>\n",
       "      <td>61.0</td>\n",
       "      <td>326</td>\n",
       "      <td>3.89</td>\n",
       "      <td>3.84</td>\n",
       "      <td>2.31</td>\n",
       "    </tr>\n",
       "    <tr>\n",
       "      <th>2</th>\n",
       "      <td>0.23</td>\n",
       "      <td>Good</td>\n",
       "      <td>E</td>\n",
       "      <td>VS1</td>\n",
       "      <td>56.9</td>\n",
       "      <td>65.0</td>\n",
       "      <td>327</td>\n",
       "      <td>4.05</td>\n",
       "      <td>4.07</td>\n",
       "      <td>2.31</td>\n",
       "    </tr>\n",
       "    <tr>\n",
       "      <th>3</th>\n",
       "      <td>0.29</td>\n",
       "      <td>Premium</td>\n",
       "      <td>I</td>\n",
       "      <td>VS2</td>\n",
       "      <td>62.4</td>\n",
       "      <td>58.0</td>\n",
       "      <td>334</td>\n",
       "      <td>4.20</td>\n",
       "      <td>4.23</td>\n",
       "      <td>2.63</td>\n",
       "    </tr>\n",
       "    <tr>\n",
       "      <th>4</th>\n",
       "      <td>0.31</td>\n",
       "      <td>Good</td>\n",
       "      <td>J</td>\n",
       "      <td>SI2</td>\n",
       "      <td>63.3</td>\n",
       "      <td>58.0</td>\n",
       "      <td>335</td>\n",
       "      <td>4.34</td>\n",
       "      <td>4.35</td>\n",
       "      <td>2.75</td>\n",
       "    </tr>\n",
       "    <tr>\n",
       "      <th>...</th>\n",
       "      <td>...</td>\n",
       "      <td>...</td>\n",
       "      <td>...</td>\n",
       "      <td>...</td>\n",
       "      <td>...</td>\n",
       "      <td>...</td>\n",
       "      <td>...</td>\n",
       "      <td>...</td>\n",
       "      <td>...</td>\n",
       "      <td>...</td>\n",
       "    </tr>\n",
       "    <tr>\n",
       "      <th>53935</th>\n",
       "      <td>0.72</td>\n",
       "      <td>Ideal</td>\n",
       "      <td>D</td>\n",
       "      <td>SI1</td>\n",
       "      <td>60.8</td>\n",
       "      <td>57.0</td>\n",
       "      <td>2757</td>\n",
       "      <td>5.75</td>\n",
       "      <td>5.76</td>\n",
       "      <td>3.50</td>\n",
       "    </tr>\n",
       "    <tr>\n",
       "      <th>53936</th>\n",
       "      <td>0.72</td>\n",
       "      <td>Good</td>\n",
       "      <td>D</td>\n",
       "      <td>SI1</td>\n",
       "      <td>63.1</td>\n",
       "      <td>55.0</td>\n",
       "      <td>2757</td>\n",
       "      <td>5.69</td>\n",
       "      <td>5.75</td>\n",
       "      <td>3.61</td>\n",
       "    </tr>\n",
       "    <tr>\n",
       "      <th>53937</th>\n",
       "      <td>0.70</td>\n",
       "      <td>Very Good</td>\n",
       "      <td>D</td>\n",
       "      <td>SI1</td>\n",
       "      <td>62.8</td>\n",
       "      <td>60.0</td>\n",
       "      <td>2757</td>\n",
       "      <td>5.66</td>\n",
       "      <td>5.68</td>\n",
       "      <td>3.56</td>\n",
       "    </tr>\n",
       "    <tr>\n",
       "      <th>53938</th>\n",
       "      <td>0.86</td>\n",
       "      <td>Premium</td>\n",
       "      <td>H</td>\n",
       "      <td>SI2</td>\n",
       "      <td>61.0</td>\n",
       "      <td>58.0</td>\n",
       "      <td>2757</td>\n",
       "      <td>6.15</td>\n",
       "      <td>6.12</td>\n",
       "      <td>3.74</td>\n",
       "    </tr>\n",
       "    <tr>\n",
       "      <th>53939</th>\n",
       "      <td>0.75</td>\n",
       "      <td>Ideal</td>\n",
       "      <td>D</td>\n",
       "      <td>SI2</td>\n",
       "      <td>62.2</td>\n",
       "      <td>55.0</td>\n",
       "      <td>2757</td>\n",
       "      <td>5.83</td>\n",
       "      <td>5.87</td>\n",
       "      <td>3.64</td>\n",
       "    </tr>\n",
       "  </tbody>\n",
       "</table>\n",
       "<p>53940 rows × 10 columns</p>\n",
       "</div>"
      ],
      "text/plain": [
       "       carat        cut color clarity  depth  table  price     x     y     z\n",
       "0       0.23      Ideal     E     SI2   61.5   55.0    326  3.95  3.98  2.43\n",
       "1       0.21    Premium     E     SI1   59.8   61.0    326  3.89  3.84  2.31\n",
       "2       0.23       Good     E     VS1   56.9   65.0    327  4.05  4.07  2.31\n",
       "3       0.29    Premium     I     VS2   62.4   58.0    334  4.20  4.23  2.63\n",
       "4       0.31       Good     J     SI2   63.3   58.0    335  4.34  4.35  2.75\n",
       "...      ...        ...   ...     ...    ...    ...    ...   ...   ...   ...\n",
       "53935   0.72      Ideal     D     SI1   60.8   57.0   2757  5.75  5.76  3.50\n",
       "53936   0.72       Good     D     SI1   63.1   55.0   2757  5.69  5.75  3.61\n",
       "53937   0.70  Very Good     D     SI1   62.8   60.0   2757  5.66  5.68  3.56\n",
       "53938   0.86    Premium     H     SI2   61.0   58.0   2757  6.15  6.12  3.74\n",
       "53939   0.75      Ideal     D     SI2   62.2   55.0   2757  5.83  5.87  3.64\n",
       "\n",
       "[53940 rows x 10 columns]"
      ]
     },
     "execution_count": 289,
     "metadata": {},
     "output_type": "execute_result"
    }
   ],
   "source": [
    "df = sns.load_dataset('diamonds')\n",
    "df"
   ]
  },
  {
   "cell_type": "code",
   "execution_count": 339,
   "metadata": {},
   "outputs": [
    {
     "data": {
      "text/plain": [
       "Text(0.5, 1.0, 'p = 1.137\\nμ = 61.810\\nσ = 1.070')"
      ]
     },
     "execution_count": 339,
     "metadata": {},
     "output_type": "execute_result"
    },
    {
     "data": {
      "image/png": "[encoded data removed]",
      "text/plain": [
       "<Figure size 800x600 with 1 Axes>"
      ]
     },
     "metadata": {},
     "output_type": "display_data"
    }
   ],
   "source": [
    "# xx = df.eval('y')[67::1000]\n",
    "# xx = df.eval('log(depth)')\n",
    "xx = df.query('depth > 55 and depth < 70').eval('depth')\n",
    "sns.histplot(xx, stat='density', bins=80)\n",
    "params = minkowski.fit(xx)\n",
    "mink = minkowski(*params)\n",
    "\n",
    "xvals = np.linspace(min(xx), max(xx), 1000)\n",
    "plt.plot(xvals, mink.pdf(xvals), c=cs[1])\n",
    "plt.title('\\n'.join(f'{name} = {stat:.03f}' for name, stat in zip('pμσ', params)))"
   ]
  },
  {
   "cell_type": "code",
   "execution_count": 312,
   "metadata": {},
   "outputs": [
    {
     "data": {
      "text/plain": [
       "(1.087532069712075, 4.124009220458542, 0.01718834709625578)"
      ]
     },
     "execution_count": 312,
     "metadata": {},
     "output_type": "execute_result"
    }
   ],
   "source": [
    "p, u, s = minkowski.fit(xx.values)\n"
   ]
  },
  {
   "cell_type": "code",
   "execution_count": null,
   "metadata": {},
   "outputs": [],
   "source": []
  }
 ],
 "metadata": {
  "kernelspec": {
   "display_name": "base",
   "language": "python",
   "name": "python3"
  },
  "language_info": {
   "codemirror_mode": {
    "name": "ipython",
    "version": 3
   },
   "file_extension": ".py",
   "mimetype": "text/x-python",
   "name": "python",
   "nbconvert_exporter": "python",
   "pygments_lexer": "ipython3",
   "version": "3.10.12"
  }
 },
 "nbformat": 4,
 "nbformat_minor": 2
}
